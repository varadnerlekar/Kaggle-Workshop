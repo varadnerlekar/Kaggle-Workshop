{
 "cells": [
  {
   "cell_type": "code",
   "execution_count": null,
   "metadata": {},
   "outputs": [],
   "source": [
    "# Printing a string with print()\n",
    "# Syntax =>   print(\" \") \n",
    "\n",
    "print(\"Hello World\")"
   ]
  },
  {
   "cell_type": "code",
   "execution_count": null,
   "metadata": {},
   "outputs": [],
   "source": [
    "# Creating Variables \n",
    "\n",
    "a = 1   \n",
    "b = 'Hello' \n",
    "c = False       \n",
    "\n",
    "print(a)          # Integer Type\n",
    "print(b)          # String Type\n",
    "print(c)          # Boolean Type"
   ]
  },
  {
   "cell_type": "code",
   "execution_count": null,
   "metadata": {},
   "outputs": [],
   "source": [
    "# Reassignment of Variables\n",
    "\n",
    "a = 2\n",
    "b = 'Hi' \n",
    "c = True\n",
    "\n",
    "print(a)\n",
    "print(b)\n",
    "print(c)\n",
    "\n",
    "# Same variables from In[2] have different values now"
   ]
  },
  {
   "cell_type": "code",
   "execution_count": null,
   "metadata": {},
   "outputs": [],
   "source": [
    "# Output Variables\n",
    "\n",
    "x = 'Hello'\n",
    "y = ' World'\n",
    "\n",
    "print( x + y + \".\")\n",
    "print(b + \" Everyone.\")"
   ]
  },
  {
   "cell_type": "code",
   "execution_count": null,
   "metadata": {},
   "outputs": [],
   "source": [
    "# Numeric Variables\n",
    "\n",
    "a1 = 18\n",
    "b1 = 33.44\n",
    "c1 = 18 + 33j\n",
    "d1 = 12e6"
   ]
  },
  {
   "cell_type": "code",
   "execution_count": null,
   "metadata": {},
   "outputs": [],
   "source": [
    "# type() function is used to get the datatype of a variable\n",
    "type_a1 = type(a1)\n",
    "type_b1 = type(b1)\n",
    "type_c1 = type(c1)\n",
    "type_d1 = type(d1)\n",
    "\n",
    "print (type_a1)\n",
    "print (type_b1)\n",
    "print (type_c1)\n",
    "print (type_d1)"
   ]
  },
  {
   "cell_type": "code",
   "execution_count": null,
   "metadata": {},
   "outputs": [],
   "source": [
    "# Get the name of the class by dot referencing\n",
    "class_name_a1 = type_a1.__name__"
   ]
  },
  {
   "cell_type": "code",
   "execution_count": null,
   "metadata": {},
   "outputs": [],
   "source": [
    "\n",
    "print(\"a is an object of class :\" + class_name_a1)"
   ]
  },
  {
   "cell_type": "code",
   "execution_count": null,
   "metadata": {},
   "outputs": [],
   "source": [
    "# Casting in Python is done using constructor functions.\n",
    "\n",
    "x = int(1)          # x will be 1\n",
    "y = int(2.225)      # y will be 2\n",
    "z = int(\"3\")        # z will be 3"
   ]
  },
  {
   "cell_type": "code",
   "execution_count": null,
   "metadata": {},
   "outputs": [],
   "source": [
    "x = float(1)        # x will be 1\n",
    "y = float(2.225)    # y will be 2.225\n",
    "z = float(\"3\")      # z will be 3.0\n",
    "w = float(\"4.0\")    # w will be 4.0"
   ]
  },
  {
   "cell_type": "code",
   "execution_count": null,
   "metadata": {},
   "outputs": [],
   "source": [
    "x = str(\"Varad\")    # x will be 'Varad'\n",
    "y = str(2)          # y will be '2'\n",
    "z = str(3.0)        # z will be '3.0'"
   ]
  },
  {
   "cell_type": "code",
   "execution_count": null,
   "metadata": {},
   "outputs": [],
   "source": [
    "name = \" Varad was here.\"\n",
    "print(name[4])                   # Prints the value at position 4. (Starts with 0). Also, notice a space at position 0"
   ]
  },
  {
   "cell_type": "code",
   "execution_count": null,
   "metadata": {},
   "outputs": [],
   "source": [
    "# Get values from position 1 to position 6\n",
    "\n",
    "print(name[1:6])"
   ]
  },
  {
   "cell_type": "code",
   "execution_count": null,
   "metadata": {},
   "outputs": [],
   "source": [
    "# The strip() method removes any whitespace from beginning or the end\n",
    "\n",
    "print(name.strip())"
   ]
  },
  {
   "cell_type": "code",
   "execution_count": null,
   "metadata": {},
   "outputs": [],
   "source": [
    "# The len() method returns gives the length of the string\n",
    "\n",
    "print(len(name))"
   ]
  },
  {
   "cell_type": "code",
   "execution_count": null,
   "metadata": {},
   "outputs": [],
   "source": [
    "# The lower() returns the string in the lowercase\n",
    "\n",
    "print(name.lower())"
   ]
  },
  {
   "cell_type": "code",
   "execution_count": null,
   "metadata": {},
   "outputs": [],
   "source": [
    "# The upper() returns the string in the uppercase\n",
    "\n",
    "print(name.upper())"
   ]
  },
  {
   "cell_type": "code",
   "execution_count": null,
   "metadata": {},
   "outputs": [],
   "source": [
    "# The replace() method replaces a string with another string\n",
    "\n",
    "print(name.replace(\"a\", \"i\"))"
   ]
  },
  {
   "cell_type": "code",
   "execution_count": null,
   "metadata": {},
   "outputs": [],
   "source": [
    "# The split() method splits the string into substrings\n",
    "\n",
    "print(name.split(\",\"))\n",
    "\n",
    "# In this case there are no separators."
   ]
  },
  {
   "cell_type": "code",
   "execution_count": null,
   "metadata": {},
   "outputs": [],
   "source": [
    "# Python Lists\n",
    "\n",
    "colors = [\"Blue\", \"Yellow\", \"Green\"]\n",
    "\n",
    "print(colors)"
   ]
  },
  {
   "cell_type": "code",
   "execution_count": null,
   "metadata": {},
   "outputs": [],
   "source": [
    "# Access each list element by indexing it\n",
    "\n",
    "print(colors[1])"
   ]
  },
  {
   "cell_type": "code",
   "execution_count": null,
   "metadata": {},
   "outputs": [],
   "source": [
    "# Use index number to change value of a particular item\n",
    "\n",
    "colors[1] = \"Red\"\n",
    "\n",
    "print(colors)"
   ]
  },
  {
   "cell_type": "code",
   "execution_count": null,
   "metadata": {},
   "outputs": [],
   "source": [
    "# Python Tuples\n",
    "\n",
    "subject_tuple = (\"Embedded\", \"VLSI\", \"Arduino\")\n",
    "\n",
    "print(subject_tuple)"
   ]
  },
  {
   "cell_type": "code",
   "execution_count": null,
   "metadata": {},
   "outputs": [],
   "source": [
    "# Tuple doesn't allow object assignment. The next line will produce an error.\n",
    "\n",
    "# subject_tuple[1] = 'cp'"
   ]
  },
  {
   "cell_type": "code",
   "execution_count": null,
   "metadata": {},
   "outputs": [],
   "source": [
    "# Python Dictionary\n",
    "\n",
    "Train = {\n",
    "   \"name\" : \"Shatabdi Express\",\n",
    "    \"isRunning\": True\n",
    "}"
   ]
  },
  {
   "cell_type": "code",
   "execution_count": null,
   "metadata": {},
   "outputs": [],
   "source": [
    "# Acess items of Dictionary by its keyname, using Square Brackets.\n",
    "\" The train {} is running at right time\". format(Train[\"name\"])"
   ]
  },
  {
   "cell_type": "code",
   "execution_count": null,
   "metadata": {},
   "outputs": [],
   "source": [
    "# Python conditions and if statements\n",
    "\n",
    "x1 = 4\n",
    "x2 = 5\n",
    "\n",
    "if x1 == x2 :\n",
    "   print(True)\n",
    "else:\n",
    "    print(False)\n",
    "    "
   ]
  },
  {
   "cell_type": "code",
   "execution_count": null,
   "metadata": {},
   "outputs": [],
   "source": [
    "# Python Loops\n",
    "\n",
    "for i in range(10):\n",
    "    print(i)"
   ]
  },
  {
   "cell_type": "code",
   "execution_count": null,
   "metadata": {},
   "outputs": [],
   "source": [
    "a = 0\n",
    "\n",
    "while a <5:\n",
    "    print(a)\n",
    "    a+=1"
   ]
  },
  {
   "cell_type": "code",
   "execution_count": null,
   "metadata": {},
   "outputs": [],
   "source": [
    "# Printing Elements of List\n",
    "\n",
    "mySeq = ['one' , 'two' , 'three']\n",
    "\n",
    "for ele in mySeq:\n",
    "    print(ele"
   ]
  },
  {
   "cell_type": "code",
   "execution_count": null,
   "metadata": {},
   "outputs": [],
   "source": [
    "# Printing Keys of Dictionary\n",
    "\n",
    "for ele in Train:\n",
    "     print(ele)"
   ]
  },
  {
   "cell_type": "code",
   "execution_count": null,
   "metadata": {},
   "outputs": [],
   "source": [
    "# Printing Corresponding Value of elements of Dictionary\n",
    "\n",
    "for ele in Train:\n",
    "    print(Train[ele])"
   ]
  },
  {
   "cell_type": "code",
   "execution_count": null,
   "metadata": {},
   "outputs": [],
   "source": [
    "# Python Functions\n",
    "\n",
    "def show():\n",
    "    print('This is Shruti')"
   ]
  },
  {
   "cell_type": "code",
   "execution_count": null,
   "metadata": {},
   "outputs": [],
   "source": [
    "# Calling Function show()\n",
    "\n",
    "show()"
   ]
  },
  {
   "cell_type": "code",
   "execution_count": null,
   "metadata": {},
   "outputs": [],
   "source": [
    "# Python Classes\n",
    "\n",
    "class Book:\n",
    "    weight = 2\n",
    "    height = 4\n",
    "    length = 3"
   ]
  },
  {
   "cell_type": "code",
   "execution_count": null,
   "metadata": {},
   "outputs": [],
   "source": [
    "# init() in Python\n",
    "\n",
    "class Book:\n",
    "    \n",
    "    def __init__(self , w, h, l):\n",
    "        self.w = w\n",
    "        self.h = h\n",
    "        self.l = l\n",
    "        \n",
    "    def getprice(self):\n",
    "        return self.w * self.h * self.l\n",
    "    "
   ]
  },
  {
   "cell_type": "code",
   "execution_count": null,
   "metadata": {},
   "outputs": [],
   "source": [
    "boook = Book(1, 4, 5)\n",
    "\n",
    "price = boook.getprice()\n",
    "\n",
    "print (price)"
   ]
  },
  {
   "cell_type": "code",
   "execution_count": null,
   "metadata": {},
   "outputs": [],
   "source": [
    "class Book:\n",
    "    \n",
    "    def __init__(local, h, w, l):\n",
    "        local.h = h\n",
    "        local.w = w\n",
    "        local.l = l\n",
    "        \n",
    "    def getprice(local):\n",
    "        return local.w * local.h * local.l"
   ]
  },
  {
   "cell_type": "code",
   "execution_count": null,
   "metadata": {},
   "outputs": [],
   "source": [
    "boook1 = Book(3, 4, 5)\n",
    "\n",
    "print(boook1.getprice())"
   ]
  },
  {
   "cell_type": "code",
   "execution_count": null,
   "metadata": {},
   "outputs": [],
   "source": [
    "# Modifying Objects\n",
    "\n",
    "boook1.h = 10;\n",
    "\n",
    "print(boook1.getprice())"
   ]
  },
  {
   "cell_type": "code",
   "execution_count": null,
   "metadata": {},
   "outputs": [],
   "source": [
    "# Inheritance in Python\n",
    "\n",
    "class BaseClassMine:\n",
    "    \n",
    "    def __init__(self):\n",
    "        self.prop1 = None\n",
    "        self.prop2 = None\n",
    "        self.prop3 = None\n",
    "\n",
    "class DerivedClassMine(BaseClassMine):\n",
    "    pass\n",
    "\n",
    "obj = DerivedClassMine()\n",
    "\n",
    "print (obj.prop1, obj.prop2, obj.prop3)"
   ]
  },
  {
   "cell_type": "code",
   "execution_count": null,
   "metadata": {},
   "outputs": [],
   "source": [
    "class AnotherClassMine(BaseClassMine):\n",
    "    \n",
    "    def __init__(self):\n",
    "        self.prop4 = None\n",
    "\n",
    "obj = AnotherClassMine()\n",
    "\n",
    "print (obj.prop4)"
   ]
  },
  {
   "cell_type": "code",
   "execution_count": null,
   "metadata": {},
   "outputs": [],
   "source": [
    "class AnotherOneMine(BaseClassMine):\n",
    "    \n",
    "    def __init__(self):\n",
    "        BaseClassMine.__init__(self)\n",
    "        self.prop5 = None\n",
    "\n",
    "obj = AnotherOneMine()\n",
    "\n",
    "print (obj.prop1, obj.prop2, obj.prop3, obj.prop5)"
   ]
  },
  {
   "cell_type": "code",
   "execution_count": null,
   "metadata": {},
   "outputs": [],
   "source": [
    "#Importing Modules\n",
    "\n",
    "import numpy\n",
    "import pandas"
   ]
  }
 ],
 "metadata": {
  "kernelspec": {
   "display_name": "Python 3",
   "language": "python",
   "name": "python3"
  },
  "language_info": {
   "codemirror_mode": {
    "name": "ipython",
    "version": 3
   },
   "file_extension": ".py",
   "mimetype": "text/x-python",
   "name": "python",
   "nbconvert_exporter": "python",
   "pygments_lexer": "ipython3",
   "version": "3.7.3"
  }
 },
 "nbformat": 4,
 "nbformat_minor": 2
}
